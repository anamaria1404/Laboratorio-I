{
 "cells": [
  {
   "attachments": {
    "Iteso%20logo.png": {
     "image/png": "[encoded data removed]"
    }
   },
   "cell_type": "markdown",
   "metadata": {},
   "source": [
    "![Iteso%20logo.png](attachment:Iteso%20logo.png)"
   ]
  },
  {
   "cell_type": "markdown",
   "metadata": {},
   "source": [
    "<center><font color=#555555><font size=6> MAF1731 - Microstructure and Trading Systems </font> <br> <br>\n",
    "    \n",
    "<center><font color=#555555><font size=5> B.Eng Financial Engineering </font> <br> <br> <br> <br>\n",
    "   \n",
    "<center> <font color= #555555> <font size = Feb 2023 </a> | <font color= #555555> <font size = 4> Repository: <a href='https://github.com/anamaria1404/Laboratorio-I'>Link</a></font>"
   ]
  },
  {
   "cell_type": "markdown",
   "metadata": {},
   "source": [
    "<hr style=\"border:0.02in solid gray\"> </hr>"
   ]
  },
  {
   "cell_type": "markdown",
   "metadata": {},
   "source": [
    "<center> <font color= #555555> <font size = 6> Laboratorio I </font> <br> <br> <font color= #555555> <font size = 5> Inversión de Capital  </font>"
   ]
  },
  {
   "cell_type": "markdown",
   "metadata": {},
   "source": [
    "<hr style=\"border:0.02in solid gray\"> </hr>"
   ]
  },
  {
   "cell_type": "markdown",
   "metadata": {},
   "source": [
    "<center> Ana María Aguilera Gómez\n",
    "\n",
    "<center> Galilea de la Torre Rojas"
   ]
  },
  {
   "cell_type": "markdown",
   "metadata": {},
   "source": [
    "# <font color= #6B6B6B> <font size = 6> 1. Introduction </font>"
   ]
  },
  {
   "cell_type": "markdown",
   "metadata": {},
   "source": [
    "<hr style=\"border:0.02in solid gray\"> </hr>\n",
    "\n",
    "Poder responder la pregunta **¿Qué estrategia de inversión propondrías si tu trabajo fuera invertir 1 Millón de pesos?**\n",
    "\n",
    "- Caso: Tienes 1 Millón de pesos, tienes dos opciones para invertirlos. Por un lado, puedes hacer una Inversión Pasiva del capital, comprando el 100% del capital de títulos de un ETF que replica al mercado de renta variable mexicano S&P/BMV IPC que es el NAFTRAC. Pero por otro lado, puedes hacer una Inversión Activa del capital, al crear un portafolio que tenga los mismos activos que el ETF y haciendo el rebalanceo por medio de un algoritmo en específico.\n"
   ]
  },
  {
   "cell_type": "markdown",
   "metadata": {},
   "source": []
  },
  {
   "cell_type": "markdown",
   "metadata": {},
   "source": []
  },
  {
   "cell_type": "markdown",
   "metadata": {},
   "source": []
  },
  {
   "cell_type": "markdown",
   "metadata": {},
   "source": [
    "<hr style=\"border:0.02in solid gray\"> </hr>\n",
    "\n",
    "# <font color= #6B6B6B> 2. Objectives </font>\n",
    "\n"
   ]
  },
  {
   "cell_type": "markdown",
   "metadata": {},
   "source": []
  },
  {
   "cell_type": "markdown",
   "metadata": {},
   "source": []
  },
  {
   "cell_type": "markdown",
   "metadata": {},
   "source": [
    "<hr style=\"border:0.02in solid gray\"> </hr>\n",
    "\n",
    "\n",
    "# <font color= #6B6B6B> 3. Install/Load Packages and Depedencies </font>"
   ]
  },
  {
   "cell_type": "markdown",
   "metadata": {},
   "source": [
    "## <font color= #6B6B6B> 3.1 Python Packages </font> <font color= #555555>\n",
    "    \n",
    "In order to run this notebook, it is necessary to have installed and/or have the _requirements.txt_ file with the following: \n",
    "    \n",
    "- pandas>=1.1.1\n",
    "- numpy>=1.19.1\n",
    "- jupyter>=1.0.0\n",
    "- yfinance>=0.1.55\n",
    "- DateTime>=4.3\n",
    "- statistics>=1.0.3.5\n",
    "- matplotlib>=3.3.4"
   ]
  },
  {
   "cell_type": "markdown",
   "metadata": {},
   "source": [
    "## <font color= #6B6B6B> 3.2 Files Dependencies </font> <font color= #555555>\n",
    "    \n",
    "The following are the file dependencies that are needed to run this notebook:\n",
    "    \n",
    "- files/NAFTRAC_.csv"
   ]
  },
  {
   "cell_type": "markdown",
   "metadata": {},
   "source": [
    "## <font color= #6E6E6E> 3.3 Install and load Packages</font>"
   ]
  },
  {
   "cell_type": "code",
   "execution_count": 171,
   "metadata": {},
   "outputs": [],
   "source": [
    "# Main functionali\n",
    "#import main"
   ]
  },
  {
   "cell_type": "markdown",
   "metadata": {},
   "source": [
    "<hr style=\"border:0.02in solid gray\"> </hr>\n",
    "\n",
    "\n",
    "# <font color= #6E6E6E> 4. Passive Investment Strategy</font>\n",
    "\n",
    "\n",
    "## <font color= #6E6E6E> 4.1 Data and process</font>\n"
   ]
  },
  {
   "cell_type": "code",
   "execution_count": 262,
   "metadata": {},
   "outputs": [],
   "source": [
    "def replace_text(x, to_replace, replacement):\n",
    "        try:\n",
    "            x=x.replace(to_replace, replacement)\n",
    "        except:\n",
    "            pass\n",
    "        return x"
   ]
  },
  {
   "cell_type": "code",
   "execution_count": 263,
   "metadata": {},
   "outputs": [],
   "source": [
    "df = pd.read_csv('files/NAFTRAC_20210129.csv',skiprows=2)\n",
    "df2 = pd.read_csv('files/NAFTRAC_20210226.csv',skiprows=2)\n",
    "df3 = pd.read_csv('files/NAFTRAC_20210331.csv',skiprows=2)\n",
    "df4 = pd.read_csv('files/NAFTRAC_20210430.csv',skiprows=2)\n",
    "df5 = pd.read_csv('files/NAFTRAC_20210531.csv',skiprows=2)\n",
    "df6 = pd.read_csv('files/NAFTRAC_20210630.csv',skiprows=2)\n",
    "df7 = pd.read_csv('files/NAFTRAC_20210730.csv',skiprows=2)\n",
    "df8 = pd.read_csv('files/NAFTRAC_20210831.csv',skiprows=2)\n",
    "df9 = pd.read_csv('files/NAFTRAC_20210930.csv',skiprows=2)\n",
    "df10 = pd.read_csv('files/NAFTRAC_20211026.csv',skiprows=2)\n",
    "df11 = pd.read_csv('files/NAFTRAC_20211130.csv',skiprows=2)\n",
    "df12 = pd.read_csv('files/NAFTRAC_20211231.csv',skiprows=2)\n",
    "df13 = pd.read_csv('files/NAFTRAC_20220126.csv',skiprows=2)\n",
    "df14 = pd.read_csv('files/NAFTRAC_20220228.csv',skiprows=2)\n",
    "df15 = pd.read_csv('files/NAFTRAC_20220331.csv',skiprows=2)\n",
    "df16 = pd.read_csv('files/NAFTRAC_20220429.csv',skiprows=2)\n",
    "df17 = pd.read_csv('files/NAFTRAC_20220531.csv',skiprows=2)\n",
    "df18 = pd.read_csv('files/NAFTRAC_20220630.csv',skiprows=2)\n",
    "df19 = pd.read_csv('files/NAFTRAC_20220729.csv',skiprows=2)\n",
    "df20 = pd.read_csv('files/NAFTRAC_20220831.csv',skiprows=2)\n",
    "df21 = pd.read_csv('files/NAFTRAC_20220930.csv',skiprows=2)\n",
    "df22 = pd.read_csv('files/NAFTRAC_20221031.csv',skiprows=2)\n",
    "df23 = pd.read_csv('files/NAFTRAC_20221130.csv',skiprows=2)\n",
    "df24 = pd.read_csv('files/NAFTRAC_20221230.csv',skiprows=2)\n",
    "df25 = pd.read_csv('files/NAFTRAC_20230125.csv',skiprows=2)\n",
    "\n",
    "vertical_concat = pd.concat([df, df2, df3,df4,df5,df6,df7,df8,df9,df10,df11,df12,df13,df14,df15,df16,df17,df18,df19,df20,df21,\n",
    "                                 df22,df23,df24,df25], axis=0).drop(37) #eliminar última fila vacía"
   ]
  },
  {
   "cell_type": "code",
   "execution_count": 264,
   "metadata": {},
   "outputs": [],
   "source": [
    "#import data\n",
    "import pandas as pd\n",
    "import yfinance as yf\n",
    "import numpy as np"
   ]
  },
  {
   "cell_type": "code",
   "execution_count": 265,
   "metadata": {},
   "outputs": [
    {
     "name": "stderr",
     "output_type": "stream",
     "text": [
      "<ipython-input-265-213705033aad>:8: SettingWithCopyWarning: \n",
      "A value is trying to be set on a copy of a slice from a DataFrame.\n",
      "Try using .loc[row_indexer,col_indexer] = value instead\n",
      "\n",
      "See the caveats in the documentation: https://pandas.pydata.org/pandas-docs/stable/user_guide/indexing.html#returning-a-view-versus-a-copy\n",
      "  pesos1[\"Peso (%)\"] = pesos1[\"Peso (%)\"] / 100\n"
     ]
    }
   ],
   "source": [
    "# obtener tickers repetidos\n",
    "cant = vertical_concat.groupby(['Ticker'])['Ticker'].count().to_frame()\n",
    "cant24 = cant[cant['Ticker'] == 25] #tickers repetidos 25 veces\n",
    "\n",
    "#pesos del mes 1\n",
    "pesos1 = df[['Ticker','Peso (%)']]\n",
    "\n",
    "pesos1[\"Peso (%)\"] = pesos1[\"Peso (%)\"] / 100\n",
    "\n",
    "pesos1 = pesos1.drop(37) #eliminar última fila vacía\n"
   ]
  },
  {
   "cell_type": "code",
   "execution_count": 266,
   "metadata": {},
   "outputs": [],
   "source": [
    "pesos1.Ticker = pesos1.Ticker.apply(replace_text, args=('*',''))\n",
    "pesos1.Ticker = pesos1.Ticker.apply(replace_text, args=(\".\", \"-\"))\n",
    "pesos1.Ticker = pesos1.Ticker + '.MX'\n",
    "pesos1.set_index(\"Ticker\", inplace = True)\n",
    "pesos1=pesos1.T\n",
    "pesos1.drop(['MXN.MX','GENTERA.MX','IENOVA.MX','LABB.MX','NMKA.MX','SITESB-1.MX'],axis=1, inplace=True) #eliminar MXN y no repetidas"
   ]
  },
  {
   "cell_type": "code",
   "execution_count": 267,
   "metadata": {},
   "outputs": [],
   "source": [
    "#tickers limpieza \n",
    "t = pd.DataFrame(cant24.index)\n",
    "t.Ticker = t.Ticker.apply(replace_text, args=('*',''))\n",
    "t.Ticker = t.Ticker.apply(replace_text, args=(\".\", \"-\"))\n",
    "t.Ticker = t.Ticker + '.MX'\n",
    "t=t.drop(23,axis=0) #Eliminamos MXN"
   ]
  },
  {
   "cell_type": "code",
   "execution_count": 268,
   "metadata": {},
   "outputs": [],
   "source": [
    "# Función para descargar precios de cierre ajustados:\n",
    "def get_adj_closes(tickers, start_date, end_date):\n",
    "    # Descargamos DataFrame con todos los datos\n",
    "    closes = yf.download(tickers = tickers,start=start_date,end=end_date)['Adj Close']\n",
    "    closes.reset_index(inplace = True)\n",
    "    closes = closes.groupby([closes[\"Date\"].dt.year, closes[\"Date\"].dt.month], as_index=False).last()\n",
    "    # Se ordenan los índices de manera ascendente\n",
    "    closes.sort_index(inplace=True)\n",
    "    closes.set_index(\"Date\", inplace = True)\n",
    "    return closes"
   ]
  },
  {
   "cell_type": "code",
   "execution_count": 269,
   "metadata": {},
   "outputs": [],
   "source": [
    "# Importar datos\n",
    "names = t.Ticker.values.tolist()\n",
    "start = '2021-01-31'\n",
    "end = '2023-01-25'"
   ]
  },
  {
   "cell_type": "code",
   "execution_count": 270,
   "metadata": {},
   "outputs": [
    {
     "name": "stdout",
     "output_type": "stream",
     "text": [
      "[*********************100%***********************]  31 of 31 completed\n"
     ]
    }
   ],
   "source": [
    "# Obtener precios mensuales\n",
    "closes = get_adj_closes(tickers=names, start_date=start, end_date=end)"
   ]
  },
  {
   "cell_type": "code",
   "execution_count": 279,
   "metadata": {},
   "outputs": [],
   "source": [
    "def pasiva( tickers,precios,capital, comision):\n",
    "    \n",
    "    tabla = pd.DataFrame(index = precios.columns, columns = [\"Títulos\", \"Comisión\",\"Costo Total\",\"Ponderación\"]) \n",
    "    \n",
    "    for ticker in precios.columns:\n",
    "        tabla.at[ticker, \"Títulos\"] = np.floor((capital * tickers[ticker].values[0]) / (precios[ticker][0] * (1 + comision)))\n",
    "        tabla.at[ticker, \"Comisión\"] = tabla.loc[ticker, \"Títulos\"] * precios[ticker][0] * comision\n",
    "        tabla.at[ticker, \"Costo Total\"] = tabla.loc[ticker, \"Títulos\"] * precios[ticker][0] * (1 + comision)\n",
    "        tabla.at[ticker, \"Ponderación\"] = (tabla.loc[ticker, \"Títulos\"] * precios[ticker][0]) / capital\n",
    "     \n",
    "    df_pasiva = pd.DataFrame(index = precios.index, columns = [\"Capital\", \"Rend\", \n",
    "                                                               \"Rend_Acum\"])\n",
    "    \n",
    "    df_pasiva[\"Capital\"] = np.dot(precios * (1 - comision), tabla[\"Títulos\"])\n",
    "    df_pasiva[\"Rend\"] = df_pasiva[\"Capital\"].pct_change().dropna()\n",
    "    df_pasiva[\"Rend_Acum\"] = (df_pasiva[\"Rend\"] + 1).cumprod() - 1 \n",
    "     \n",
    "\n",
    "        \n",
    "    return tabla, df_pasiva"
   ]
  },
  {
   "cell_type": "code",
   "execution_count": 290,
   "metadata": {},
   "outputs": [],
   "source": [
    "tabla, df_pasiva = pasiva(pesos1,closes,1000000,0.00125)"
   ]
  },
  {
   "cell_type": "code",
   "execution_count": 291,
   "metadata": {},
   "outputs": [],
   "source": [
    "pd.set_option('display.float_format', lambda x: '%.4f' % x)"
   ]
  },
  {
   "cell_type": "code",
   "execution_count": 292,
   "metadata": {},
   "outputs": [],
   "source": [
    "def metricas(df_pasiva, rf):\n",
    "    \n",
    "    df_medidas = pd.DataFrame(index = [\"rend_m\", \"rend_c\", \"sharpe\"], columns = [\"descripcion\", \"inv_pasiva\"])\n",
    "    df_medidas.loc[\"rend_m\", \"descripcion\"] = \"Rendimiento Promedio Mensual\"\n",
    "    df_medidas.loc[\"rend_c\", \"descripcion\"] = \"Rendimiento mensual acumulado\"\n",
    "    df_medidas.loc[\"sharpe\", \"descripcion\"] = \"Sharpe Ratio\"\n",
    "    \n",
    "    df_medidas.loc[\"rend_m\",\"inv_pasiva\"] = df_pasiva[\"Rend\"].dropna().mean()\n",
    "    df_medidas.loc[\"rend_c\",\"inv_pasiva\"] = df_pasiva[\"Rend_Acum\"][-1]\n",
    "    df_medidas.loc[\"sharpe\",\"inv_pasiva\"] = (df_pasiva[\"Rend\"].dropna().mean() - rf) / df_pasiva[\"Rend\"].dropna().std() \n",
    "\n",
    "    return df_medidas "
   ]
  },
  {
   "cell_type": "code",
   "execution_count": 294,
   "metadata": {},
   "outputs": [
    {
     "data": {
      "text/html": [
       "<div>\n",
       "<style scoped>\n",
       "    .dataframe tbody tr th:only-of-type {\n",
       "        vertical-align: middle;\n",
       "    }\n",
       "\n",
       "    .dataframe tbody tr th {\n",
       "        vertical-align: top;\n",
       "    }\n",
       "\n",
       "    .dataframe thead th {\n",
       "        text-align: right;\n",
       "    }\n",
       "</style>\n",
       "<table border=\"1\" class=\"dataframe\">\n",
       "  <thead>\n",
       "    <tr style=\"text-align: right;\">\n",
       "      <th></th>\n",
       "      <th>descripcion</th>\n",
       "      <th>inv_pasiva</th>\n",
       "    </tr>\n",
       "  </thead>\n",
       "  <tbody>\n",
       "    <tr>\n",
       "      <th>rend_m</th>\n",
       "      <td>Rendimiento Promedio Mensual</td>\n",
       "      <td>0.0143</td>\n",
       "    </tr>\n",
       "    <tr>\n",
       "      <th>rend_c</th>\n",
       "      <td>Rendimiento mensual acumulado</td>\n",
       "      <td>0.3352</td>\n",
       "    </tr>\n",
       "    <tr>\n",
       "      <th>sharpe</th>\n",
       "      <td>Sharpe Ratio</td>\n",
       "      <td>-0.4881</td>\n",
       "    </tr>\n",
       "  </tbody>\n",
       "</table>\n",
       "</div>"
      ],
      "text/plain": [
       "                          descripcion inv_pasiva\n",
       "rend_m   Rendimiento Promedio Mensual     0.0143\n",
       "rend_c  Rendimiento mensual acumulado     0.3352\n",
       "sharpe                   Sharpe Ratio    -0.4881"
      ]
     },
     "execution_count": 294,
     "metadata": {},
     "output_type": "execute_result"
    }
   ],
   "source": [
    "metricas(df_pasiva,.0429)"
   ]
  },
  {
   "cell_type": "markdown",
   "metadata": {},
   "source": [
    "## <font color= #6E6E6E> 4.2 Results and metrics</font>\n"
   ]
  },
  {
   "cell_type": "code",
   "execution_count": null,
   "metadata": {},
   "outputs": [],
   "source": []
  },
  {
   "cell_type": "code",
   "execution_count": null,
   "metadata": {},
   "outputs": [],
   "source": []
  },
  {
   "cell_type": "markdown",
   "metadata": {},
   "source": [
    "<hr style=\"border:0.02in solid gray\"> </hr>\n",
    "\n",
    "\n",
    "# <font color= #6E6E6E> 5. Active Investment Strategy </font>\n",
    "\n",
    "## <font color= #6E6E6E> 5.1 Data and process</font>\n"
   ]
  },
  {
   "cell_type": "code",
   "execution_count": null,
   "metadata": {},
   "outputs": [],
   "source": []
  },
  {
   "cell_type": "code",
   "execution_count": null,
   "metadata": {},
   "outputs": [],
   "source": []
  },
  {
   "cell_type": "markdown",
   "metadata": {},
   "source": [
    "## <font color= #6E6E6E> 5.2 Results and metrics</font>"
   ]
  },
  {
   "cell_type": "code",
   "execution_count": null,
   "metadata": {},
   "outputs": [],
   "source": []
  },
  {
   "cell_type": "code",
   "execution_count": null,
   "metadata": {},
   "outputs": [],
   "source": []
  },
  {
   "cell_type": "markdown",
   "metadata": {},
   "source": [
    "<hr style=\"border:0.02in solid gray\"> </hr>\n",
    "\n",
    "\n",
    "# <font color= #6E6E6E> 6. Conclusions </font>"
   ]
  },
  {
   "cell_type": "markdown",
   "metadata": {},
   "source": []
  },
  {
   "cell_type": "markdown",
   "metadata": {},
   "source": []
  },
  {
   "cell_type": "markdown",
   "metadata": {},
   "source": [
    "<hr style=\"border:0.02in solid gray\"> </hr>\n",
    "\n",
    "# <font color= #6B6B6B> <font size = 6> References </font>\n",
    "  \n",
    "    \n",
    "- Github repository: https://github.com/anamaria1404/Laboratorio-I\n",
    "- Barnes, Jonathan (January 2023) Active Vs Passive Investing\n",
    "- Rathbones (s.f.) Active vs. passive investing — the great investment debate"
   ]
  }
 ],
 "metadata": {
  "datalore": {
   "base_environment": "default",
   "computation_mode": "JUPYTER",
   "package_manager": "pip",
   "packages": [],
   "version": 1
  },
  "kernelspec": {
   "display_name": "Python 3",
   "language": "python",
   "name": "python3"
  },
  "language_info": {
   "codemirror_mode": {
    "name": "ipython",
    "version": 3
   },
   "file_extension": ".py",
   "mimetype": "text/x-python",
   "name": "python",
   "nbconvert_exporter": "python",
   "pygments_lexer": "ipython3",
   "version": "3.8.8"
  }
 },
 "nbformat": 4,
 "nbformat_minor": 4
}
